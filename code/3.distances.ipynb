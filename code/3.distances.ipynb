{
 "cells": [
  {
   "cell_type": "markdown",
   "metadata": {},
   "source": [
    "# Outage Distances Computation\n",
    "\n",
    "Goal: Compute the distance of each power outage to its closest landmarking features\n",
    "- There are two landmarking features we care about:\n",
    "  1. Substations\n",
    "  2. Populated Place"
   ]
  },
  {
   "cell_type": "markdown",
   "metadata": {},
   "source": [
    "## Define Functions for Computing Distance"
   ]
  },
  {
   "cell_type": "code",
   "execution_count": null,
   "metadata": {},
   "outputs": [],
   "source": [
    "import pandas as pd\n",
    "import numpy as np\n",
    "\n",
    "\n",
    "def haversine(lat1, lon1, lat2, lon2):\n",
    "  \"\"\"\n",
    "    Returns distance between two coordinate points in km\n",
    "  \"\"\"\n",
    "  # reference : exercise 3, calc_distance.py haversine formula\n",
    "  # Note : the radius of Earth is 6371 km\n",
    "  # https://stackoverflow.com/a/21623206\n",
    "  r = 6371 # km\n",
    "  p = np.pi / 180\n",
    "\n",
    "  a = 0.5 - np.cos((lat2-lat1)*p)/2 + np.cos(lat1*p) * np.cos(lat2*p) * (1-np.cos((lon2-lon1)*p))/2\n",
    "  return 2 * r * np.arcsin(np.sqrt(a))\n",
    "\n",
    "\n",
    "def distance_between_feature_outage(outages: pd.DataFrame, features: pd.DataFrame):\n",
    "  # iterate every feature for each outage\n",
    "  outagesLat = pd.DataFrame(outages[\"latitude\"].values).values\n",
    "  outagesLong = pd.DataFrame(outages[\"longitude\"].values).values\n",
    "\n",
    "  # calculates the distance between each outage and each substation\n",
    "  return haversine(\n",
    "    outagesLat,\n",
    "    outagesLong,\n",
    "    features[\"latitude\"].values,\n",
    "    features[\"longitude\"].values\n",
    "  )\n",
    "\n",
    "\n",
    "# calculates the closest feature for each outage\n",
    "def shortest_distance(outages: pd.DataFrame, features: pd.DataFrame, featureName: str):\n",
    "  distances = distance_between_feature_outage(outages, features)\n",
    "\n",
    "  # find the nearest distance between each feature and outage\n",
    "  nearestDistances = distances.min(axis=1)\n",
    "  # for each outage, get the index of the shortest distance\n",
    "  shortestDistanceIndexes = distances.argmin(axis=1)\n",
    "  # get the nearest feature corresponding to the shortest distance\n",
    "  nearestFeatures = features.iloc[shortestDistanceIndexes]\n",
    "\n",
    "  closestSubstationsToOutages = pd.DataFrame(\n",
    "    {\n",
    "      \"outage_id\": outages[\"id\"],\n",
    "      f\"nearest_{featureName}_id\": nearestFeatures[\"id\"].values,\n",
    "      f\"nearest_{featureName}_distance_km\": nearestDistances,\n",
    "    }\n",
    "  )\n",
    "\n",
    "  return closestSubstationsToOutages"
   ]
  },
  {
   "cell_type": "markdown",
   "metadata": {},
   "source": [
    "## Apply Functions"
   ]
  },
  {
   "cell_type": "code",
   "execution_count": null,
   "metadata": {},
   "outputs": [],
   "source": [
    "from common import get_dataframe_from_pipeline\n",
    "\n",
    "outages = get_dataframe_from_pipeline(\"./pipeline/2.csv.gz\")\n",
    "substations = pd.read_csv(\"./_datasets/BCSubstationLocations.csv\")\n",
    "populatedPlaces = pd.read_csv(\"./_datasets/BCPopulatedPlaces.csv\")\n",
    "\n",
    "closestSubstationToOutages = shortest_distance(outages, substations, \"substation\")\n",
    "closestPopulatedPlaceToOutages = shortest_distance(outages, populatedPlaces, \"populated_place\")"
   ]
  },
  {
   "cell_type": "code",
   "execution_count": null,
   "metadata": {},
   "outputs": [],
   "source": [
    "# Merge dataframes together\n",
    "mergedData = outages.join(\n",
    "  closestSubstationToOutages.set_index(\"outage_id\"),\n",
    "  on=\"id\",\n",
    "  how=\"left\",\n",
    "  rsuffix=\"_substation\"\n",
    ")\n",
    "\n",
    "mergedData = mergedData.join(\n",
    "  closestPopulatedPlaceToOutages.set_index(\"outage_id\"),\n",
    "  on=\"id\",\n",
    "  how=\"left\",\n",
    "  rsuffix=\"_populated_place\"\n",
    ")\n",
    "\n",
    "mergedData.rename(columns={\n",
    "  \"id\": \"outageId\",\n",
    "  \"regionId\": \"outageRegionId\",\n",
    "  \"municipality\": \"outageMunicipality\",\n",
    "  \"area\": \"outageArea\",\n",
    "  \"cause\": \"outageCause\",\n",
    "  \n",
    "  \"latitude\": \"outageLatitude\",\n",
    "  \"longitude\": \"outageLongitude\",\n",
    "\n",
    "  \"nearest_substation_id\": \"nearestSubstationId\",\n",
    "  \"nearest_substation_distance_km\": \"outageToSubstationDistance\",\n",
    "\n",
    "  \"nearest_populated_place_id\": \"nearestPopulatedPlaceId\",\n",
    "  \"nearest_populated_place_distance_km\": \"outageToPopulatedPlaceDistance\",\n",
    "}, inplace=True)\n",
    "\n",
    "mergedData.to_csv(\n",
    "  \"./pipeline/3.csv.gz\", index=False, compression=\"gzip\"\n",
    ")"
   ]
  }
 ],
 "metadata": {
  "kernelspec": {
   "display_name": "Python 3",
   "language": "python",
   "name": "python3"
  },
  "language_info": {
   "codemirror_mode": {
    "name": "ipython",
    "version": 3
   },
   "file_extension": ".py",
   "mimetype": "text/x-python",
   "name": "python",
   "nbconvert_exporter": "python",
   "pygments_lexer": "ipython3",
   "version": "3.12.9"
  }
 },
 "nbformat": 4,
 "nbformat_minor": 2
}
