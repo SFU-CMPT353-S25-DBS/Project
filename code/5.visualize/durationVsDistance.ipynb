{
 "cells": [
  {
   "cell_type": "markdown",
   "id": "0",
   "metadata": {},
   "source": [
    "# Outage Duration vs Distance to Feature\n",
    "\n",
    "Goal: Create a visualization that shows the relationship between outage duration and distance to feature:\n",
    "\n",
    "Will use 3 features:\n",
    "  - Nearest Substation\n",
    "  - Nearest Populated Place\n",
    "  - Nearest Populated Place with at least 100 people"
   ]
  },
  {
   "cell_type": "code",
   "execution_count": null,
   "id": "1",
   "metadata": {},
   "outputs": [],
   "source": [
    "import sys\n",
    "import plotly.graph_objects as go\n",
    "\n",
    "# Allow importing from parent directory by temporarily moving the CWD up one level\n",
    "# Very hacky, but there literally isn't a simpler way (in Jupyter)\n",
    "sys.path.append(\"..\")\n",
    "from common import get_dataframe_from_pipeline\n",
    "\n",
    "outages = get_dataframe_from_pipeline(\"../pipeline/3.csv.gz\")\n",
    "# Drop the path back down after import\n",
    "sys.path.pop()\n",
    "\n",
    "outages['duration'] = outages['dateOn'] - outages['dateOff']"
   ]
  },
  {
   "cell_type": "code",
   "execution_count": null,
   "id": "2",
   "metadata": {},
   "outputs": [],
   "source": [
    "fig = go.Figure(\n",
    "  layout=go.Layout(\n",
    "    title={\n",
    "      \"text\": \"Mean Power Outage Length vs Distance to Various Locations in BC\",\n",
    "      \"x\": 0.5,\n",
    "    },\n",
    "    xaxis_title=\"Rounded Distance (km)\",\n",
    "    yaxis_title=\"Outage Length (hours)\",\n",
    "    xaxis_type=\"log\",  # Set x-axis to logarithmic scale\n",
    "    yaxis_type=\"log\",  # Set y-axis to logarithmic scale\n",
    "  )\n",
    ")\n",
    "\n",
    "outages['subBin'] = outages['outageToSubstationDistance'].round(0)\n",
    "subGrouped = outages.groupby(by='subBin').aggregate(\n",
    "  {\n",
    "    'duration': lambda x: x.mean(),\n",
    "  }\n",
    ").reset_index()\n",
    "\n",
    "fig.add_bar(\n",
    "  x=subGrouped['subBin'],\n",
    "  y=subGrouped['duration'].dt.total_seconds() / 3600,\n",
    "  marker_color='blue',\n",
    "  showlegend=True,\n",
    "  name=\"Distance to Substation\"\n",
    ")\n",
    "\n",
    "outages['placeBin'] = outages['outageToPopulatedPlaceDistance'].round(0)\n",
    "placeGroupedGrouped = outages.groupby(by='placeBin').aggregate(\n",
    "  {\n",
    "    'duration': lambda x: x.mean(),\n",
    "  }\n",
    ").reset_index()\n",
    "\n",
    "fig.add_bar(\n",
    "  x=placeGroupedGrouped['placeBin'],\n",
    "  y=placeGroupedGrouped['duration'].dt.total_seconds() / 3600,\n",
    "  marker_color='red',\n",
    "  showlegend=True,\n",
    "  name=\"Distance to Populated Place\",\n",
    ")\n",
    "\n",
    "outages['urbanAreaBin'] = outages['outageToUrbanAreaDistance'].round(0)\n",
    "urbanAreaGrouped = outages.groupby(by='urbanAreaBin').aggregate(\n",
    "  {\n",
    "    'duration': lambda x: x.mean(),\n",
    "  }\n",
    ").reset_index()\n",
    "\n",
    "fig.add_bar(\n",
    "  x=urbanAreaGrouped['urbanAreaBin'],\n",
    "  y=urbanAreaGrouped['duration'].dt.total_seconds() / 3600,\n",
    "  marker_color='green',\n",
    "  showlegend=True,\n",
    "  name=\"Distance to Urban Area\",\n",
    ")\n",
    "\n",
    "fig"
   ]
  },
  {
   "cell_type": "code",
   "execution_count": null,
   "id": "3",
   "metadata": {},
   "outputs": [],
   "source": [
    "import os\n",
    "\n",
    "# Save the map\n",
    "# Make directory if it doesn't exist\n",
    "if not os.path.exists(\"html\"):\n",
    "  os.makedirs(\"html\")\n",
    "\n",
    "fig.write_html(\"html/outage_length_vs_distance.html\", include_plotlyjs=\"cdn\")"
   ]
  }
 ],
 "metadata": {
  "kernelspec": {
   "display_name": "Python 3",
   "language": "python",
   "name": "python3"
  },
  "language_info": {
   "codemirror_mode": {
    "name": "ipython",
    "version": 3
   },
   "file_extension": ".py",
   "mimetype": "text/x-python",
   "name": "python",
   "nbconvert_exporter": "python",
   "pygments_lexer": "ipython3",
   "version": "3.12.9"
  }
 },
 "nbformat": 4,
 "nbformat_minor": 5
}
