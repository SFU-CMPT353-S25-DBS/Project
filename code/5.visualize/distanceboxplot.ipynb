{
 "cells": [
  {
   "cell_type": "code",
   "execution_count": null,
   "metadata": {},
   "outputs": [],
   "source": [
    "import matplotlib.pyplot as plt\n",
    "\n",
    "# Allow importing from parent directory by temporarily moving the CWD up one level\n",
    "# Very hacky, but there literally isn't a simpler way (in Jupyter)\n",
    "import sys\n",
    "sys.path.append(\"..\")\n",
    "from common import get_dataframe_from_pipeline\n",
    "outages = get_dataframe_from_pipeline(\"../pipeline/3.csv.gz\")\n",
    "sys.path.pop()"
   ]
  },
  {
   "cell_type": "code",
   "execution_count": null,
   "metadata": {},
   "outputs": [],
   "source": [
    "plt.boxplot(outages['outageToSubstationDistance']) \n",
    "plt.title('Basic Boxplot') \n",
    "plt.show()"
   ]
  }
 ],
 "metadata": {
  "kernelspec": {
   "display_name": "Python 3",
   "language": "python",
   "name": "python3"
  },
  "language_info": {
   "codemirror_mode": {
    "name": "ipython",
    "version": 3
   },
   "file_extension": ".py",
   "mimetype": "text/x-python",
   "name": "python",
   "nbconvert_exporter": "python",
   "pygments_lexer": "ipython3",
   "version": "3.9.13"
  }
 },
 "nbformat": 4,
 "nbformat_minor": 2
}
