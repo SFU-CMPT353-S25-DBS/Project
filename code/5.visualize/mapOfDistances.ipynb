{
 "cells": [
  {
   "cell_type": "markdown",
   "id": "0",
   "metadata": {},
   "source": [
    "#### Folium Map\n",
    "The following is an interactive map which shows the distance between each substation and outage. The code provides an html file which can later be served on our website. "
   ]
  },
  {
   "cell_type": "code",
   "execution_count": null,
   "id": "1",
   "metadata": {},
   "outputs": [],
   "source": [
    "import folium\n",
    "import sys\n",
    "import pandas as pd\n",
    "\n",
    "# Allow importing from parent directory by temporarily moving the CWD up one level\n",
    "# Very hacky, but there literally isn't a simpler way (in Jupyter)\n",
    "sys.path.append(\"..\")\n",
    "from common import get_dataframe_from_pipeline\n",
    "\n",
    "outages = get_dataframe_from_pipeline(\"../pipeline/3.csv.gz\")\n",
    "# Drop the path back down after import\n",
    "sys.path.pop()\n",
    "\n",
    "substations = pd.read_csv(\"../_datasets/BCSubstationLocations.csv\")\n",
    "populatedPlaces = pd.read_csv(\"../_datasets/BCPopulatedPlaces.csv\")"
   ]
  },
  {
   "cell_type": "code",
   "execution_count": null,
   "id": "2",
   "metadata": {},
   "outputs": [],
   "source": [
    "# create an open street map of the lower mainland\n",
    "map = folium.Map(location=(49.1934, -122.89), zoom_start=10)"
   ]
  },
  {
   "cell_type": "markdown",
   "id": "3",
   "metadata": {},
   "source": [
    "\n",
    "Resources :\n",
    "\n",
    "[Tutorial (YT)](https://www.youtube.com/watch?v=X8CoVymMOLw)\n",
    "\n",
    "[Making the markings](https://python-visualization.github.io/folium/latest/getting_started.html)\n",
    "\n",
    "[Making the markings + maps (YT)](https://www.youtube.com/watch?v=t9Ed5QyO7qY)\n",
    "\n",
    "[PolyLine](https://python-visualization.github.io/folium/latest/user_guide.html)\n",
    "\n",
    "You can find the valid map icons [here](https://getbootstrap.com/docs/3.3/components/)."
   ]
  },
  {
   "cell_type": "code",
   "execution_count": null,
   "id": "4",
   "metadata": {},
   "outputs": [],
   "source": [
    "# make markers for outages and substations\n",
    "for (index, row) in substations.iterrows():\n",
    "  # marker for substation\n",
    "  folium.Marker(\n",
    "      location=[row['latitude'], row['longitude']],\n",
    "      popup= f\"This is the '{row['name']}' substation.\",\n",
    "      tooltip='substation',\n",
    "      icon=folium.Icon(color='blue', icon='tint')\n",
    "  ).add_to(map)\n",
    "\n",
    "for (index, row) in outages.iterrows():\n",
    "    # marker for outages\n",
    "    # TODO change the size of the popup, and \n",
    "    # change what info it displays (check https://stackoverflow.com/questions/63152298/updating-folium-changed-the-popup-box-width)\n",
    "    folium.Marker(\n",
    "        location=[row['outageLatitude'], row['outageLongitude']],\n",
    "        popup= f\"The outage id '{row['outageId']}' occured at {row['dateOn']}. It is tagged with the cause : {row['outageCause']}\",\n",
    "        tooltip='outage',\n",
    "        icon=folium.Icon(color='red', icon='flash')\n",
    "    ).add_to(map)\n",
    "\n",
    "    outageCoordinates = [row['outageLatitude'], row['outageLongitude']]\n",
    "    nearestSubstation = substations.set_index(\"id\").loc[row['nearestSubstationId']]\n",
    "\n",
    "    substationCoordinates = [nearestSubstation['latitude'], nearestSubstation['longitude']]\n",
    "\n",
    "\n",
    "    # connect outage to nearest substation\n",
    "    folium.PolyLine(\n",
    "        locations=[outageCoordinates, substationCoordinates], \n",
    "        color=\"#6a1ca6\", \n",
    "        popup= f\"This line connects '{nearestSubstation['name']}' substation and outage id '{row['outageId']}'. It is {round(row['outageToSubstationDistance'], 2)}km long.\",\n",
    "        weight=3, \n",
    "        opacity=1\n",
    "    ).add_to(map)\n",
    "\n",
    "map"
   ]
  },
  {
   "cell_type": "code",
   "execution_count": null,
   "id": "5",
   "metadata": {},
   "outputs": [],
   "source": [
    "import os\n",
    "# Save the map\n",
    "# Make directory if it doesn't exist\n",
    "if not os.path.exists(\"html\"):\n",
    "  os.makedirs(\"html\")\n",
    "\n",
    "map.save('html/mapOfDistance.html')"
   ]
  },
  {
   "cell_type": "code",
   "execution_count": null,
   "id": "6",
   "metadata": {},
   "outputs": [],
   "source": [
    "# opens the map in your browser\n",
    "# !open mapOfDistance.html"
   ]
  },
  {
   "cell_type": "code",
   "execution_count": null,
   "id": "7",
   "metadata": {},
   "outputs": [],
   "source": []
  }
 ],
 "metadata": {
  "kernelspec": {
   "display_name": "Python 3",
   "language": "python",
   "name": "python3"
  },
  "language_info": {
   "codemirror_mode": {
    "name": "ipython",
    "version": 3
   },
   "file_extension": ".py",
   "mimetype": "text/x-python",
   "name": "python",
   "nbconvert_exporter": "python",
   "pygments_lexer": "ipython3",
   "version": "3.12.9"
  }
 },
 "nbformat": 4,
 "nbformat_minor": 5
}
