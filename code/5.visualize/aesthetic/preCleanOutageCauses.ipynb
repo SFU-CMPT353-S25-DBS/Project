{
 "cells": [
  {
   "cell_type": "code",
   "execution_count": null,
   "id": "0",
   "metadata": {},
   "outputs": [],
   "source": [
    "import sys\n",
    "import plotly.express as px\n",
    "\n",
    "# Allow importing from parent directory by temporarily moving the CWD up one level\n",
    "# Very hacky, but there literally isn't a simpler way (in Jupyter)\n",
    "sys.path.append(\"../../\")\n",
    "from common import get_dataframe_from_pipeline\n",
    "\n",
    "outages = get_dataframe_from_pipeline(\"../../pipeline/1.csv.gz\")\n",
    "# Drop the path back down after import\n",
    "sys.path.pop()"
   ]
  },
  {
   "cell_type": "code",
   "execution_count": null,
   "id": "1",
   "metadata": {},
   "outputs": [],
   "source": [
    "# Calculate the value counts and percentages\n",
    "value_counts = outages[\"cause\"].value_counts()\n",
    "percentages = value_counts / value_counts.sum()\n",
    "\n",
    "# Define a threshold for small percentages\n",
    "threshold = 0.001  # 0.1%\n",
    "\n",
    "# Combine small percentage regions into \"Other\"\n",
    "labels = [\n",
    "  label if percentages[label] >= threshold else \"Other\"\n",
    "  for label in value_counts.index\n",
    "]\n",
    "values = [\n",
    "  value_counts[label] if percentages[label] >= threshold else value_counts[percentages < threshold].sum()\n",
    "  for label in value_counts.index\n",
    "]\n",
    "\n",
    "# Add the pie chart with modified labels and values\n",
    "fig = px.pie(\n",
    "  values=values,\n",
    "  names=labels,\n",
    "  hole=0.4,\n",
    "  title=\"Causes of Power Outages (Pre-Filtering)\",\n",
    ")\n",
    "\n",
    "# Center title\n",
    "fig.update_layout(title_x=0.5)\n",
    "\n",
    "fig.update_traces(textposition='inside')\n",
    "fig.update_layout(uniformtext_minsize=12, uniformtext_mode='hide')"
   ]
  },
  {
   "cell_type": "code",
   "execution_count": null,
   "id": "2",
   "metadata": {},
   "outputs": [],
   "source": [
    "import os\n",
    "\n",
    "# Save the map\n",
    "# Make directory if it doesn't exist\n",
    "if not os.path.exists(\"html\"):\n",
    "  os.makedirs(\"html\")\n",
    "\n",
    "fig.write_html(\"html/preCleanOutageCauses.html\", include_plotlyjs=\"cdn\")"
   ]
  }
 ],
 "metadata": {
  "kernelspec": {
   "display_name": "Python 3",
   "language": "python",
   "name": "python3"
  },
  "language_info": {
   "codemirror_mode": {
    "name": "ipython",
    "version": 3
   },
   "file_extension": ".py",
   "mimetype": "text/x-python",
   "name": "python",
   "nbconvert_exporter": "python",
   "pygments_lexer": "ipython3",
   "version": "3.12.9"
  }
 },
 "nbformat": 4,
 "nbformat_minor": 5
}
