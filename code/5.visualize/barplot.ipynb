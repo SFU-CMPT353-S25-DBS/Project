{
 "cells": [
  {
   "cell_type": "code",
   "execution_count": null,
   "id": "0",
   "metadata": {},
   "outputs": [],
   "source": [
    "import matplotlib.pyplot as plt\n",
    "import pandas as pd\n",
    "import numpy as np\n",
    "import seaborn\n",
    "\n",
    "\n",
    "# Allow importing from parent directory by temporarily moving the CWD up one level\n",
    "# Very hacky, but there literally isn't a simpler way (in Jupyter)\n",
    "import sys\n",
    "sys.path.append(\"..\")\n",
    "from common import get_dataframe_from_pipeline\n",
    "outages = get_dataframe_from_pipeline(\"../pipeline/3.csv.gz\")\n",
    "sys.path.pop()"
   ]
  },
  {
   "cell_type": "markdown",
   "id": "1",
   "metadata": {},
   "source": [
    "### Outages per region plot"
   ]
  },
  {
   "cell_type": "code",
   "execution_count": null,
   "id": "2",
   "metadata": {},
   "outputs": [],
   "source": [
    "outages_per_region = outages['regionName'].value_counts().rename(\"outage_count\").reset_index()\n",
    "outages_per_region.columns = ['regionName', 'outage_count']\n",
    "outages_per_region"
   ]
  },
  {
   "cell_type": "code",
   "execution_count": null,
   "id": "3",
   "metadata": {},
   "outputs": [],
   "source": [
    "plt.bar(outages_per_region['regionName'], outages_per_region['outage_count'])\n",
    "plt.xticks(rotation=45)\n",
    "plt.title('Number of outages per region')\n",
    "plt.ylabel('Number of outages')\n",
    "plt.show()"
   ]
  },
  {
   "cell_type": "code",
   "execution_count": null,
   "id": "4",
   "metadata": {},
   "outputs": [],
   "source": [
    "outages.columns"
   ]
  },
  {
   "cell_type": "code",
   "execution_count": null,
   "id": "5",
   "metadata": {},
   "outputs": [],
   "source": [
    "distances = outages['outageToSubstationDistance']\n",
    "weights = np.ones_like(distances)/1000  # number of outages divided by thousand\n",
    "plt.hist(outages['outageToSubstationDistance'], bins=50, edgecolor='black', weights=weights)\n",
    "plt.xlabel('Distance to Substation (Km)')\n",
    "plt.ylabel('Number of Outages (Thousand)')\n",
    "plt.title('Distribution of Outage to Substation Distances')\n",
    "\n",
    "plt.tight_layout()\n",
    "plt.show()"
   ]
  },
  {
   "cell_type": "markdown",
   "id": "6",
   "metadata": {},
   "source": [
    "### Distances per region:"
   ]
  },
  {
   "cell_type": "code",
   "execution_count": null,
   "id": "7",
   "metadata": {},
   "outputs": [],
   "source": [
    "g = seaborn.FacetGrid(outages, col=\"regionName\", col_wrap=3, height=4)\n",
    "g.map(seaborn.histplot, \"outageToSubstationDistance\", bins=10)\n",
    "g.set_axis_labels(\"Distance to Substation\", \"Outages\")\n",
    "g.figure.suptitle(\"Distance Distribution by Region\", y=1.05)\n",
    "plt.tight_layout()\n",
    "plt.show()"
   ]
  }
 ],
 "metadata": {
  "kernelspec": {
   "display_name": "base",
   "language": "python",
   "name": "python3"
  },
  "language_info": {
   "codemirror_mode": {
    "name": "ipython",
    "version": 3
   },
   "file_extension": ".py",
   "mimetype": "text/x-python",
   "name": "python",
   "nbconvert_exporter": "python",
   "pygments_lexer": "ipython3",
   "version": "3.12.7"
  }
 },
 "nbformat": 4,
 "nbformat_minor": 5
}
