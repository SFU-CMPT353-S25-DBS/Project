{
 "cells": [
  {
   "cell_type": "code",
   "execution_count": null,
   "metadata": {},
   "outputs": [],
   "source": [
    "import matplotlib.pyplot as plt\n",
    "import pandas as pd\n",
    "import plotly.express as px\n",
    "import seaborn\n",
    "seaborn.set_theme()\n",
    "\n",
    "# Allow importing from parent directory by temporarily moving the CWD up one level\n",
    "# Very hacky, but there literally isn't a simpler way (in Jupyter)\n",
    "import sys\n",
    "sys.path.append(\"..\")\n",
    "from common import get_dataframe_from_pipeline\n",
    "outages = get_dataframe_from_pipeline(\"../pipeline/3.csv.gz\")\n",
    "outages['timeOut'] = outages['dateOn'] - outages['dateOff']\n",
    "outages['timeOut'] = outages['timeOut'].apply(lambda x: x.total_seconds()/3600)\n",
    "sys.path.pop()"
   ]
  },
  {
   "cell_type": "markdown",
   "metadata": {},
   "source": [
    "### Box plot of distances"
   ]
  },
  {
   "cell_type": "code",
   "execution_count": null,
   "metadata": {},
   "outputs": [],
   "source": [
    "plt.boxplot(outages['outageToSubstationDistance'], vert=False) \n",
    "plt.title('Distribution of distances of outages to the nearest station') \n",
    "plt.xlabel('Distance (km)') \n",
    "plt.yticks([1], ['Outages'])\n",
    "plt.show()"
   ]
  },
  {
   "cell_type": "markdown",
   "metadata": {},
   "source": [
    "Zooming in on the box:"
   ]
  },
  {
   "cell_type": "code",
   "execution_count": null,
   "metadata": {},
   "outputs": [],
   "source": [
    "plt.boxplot(outages['outageToSubstationDistance'], vert=False) \n",
    "plt.title('Distribution of distances of outages to the nearest station') \n",
    "plt.xlabel('Distance (km)') \n",
    "plt.yticks([1], ['Outages'])\n",
    "plt.xlim(0,  20)  # Limit the x-axis to the threshold\n",
    "plt.show()"
   ]
  },
  {
   "cell_type": "markdown",
   "metadata": {},
   "source": [
    "### Box plot of timeouts"
   ]
  },
  {
   "cell_type": "code",
   "execution_count": null,
   "metadata": {},
   "outputs": [],
   "source": [
    "outages['timeOut'] = outages['dateOn'] - outages['dateOff']\n",
    "outages['timeOut'] = outages['timeOut'].apply(lambda x: x.total_seconds()/3600)\n",
    "outages['timeOut']\n",
    "plt.boxplot(outages['timeOut'], vert=False) \n",
    "plt.title('Distribution of the duration of the outage') \n",
    "plt.xlabel('Timeout (hour)') \n",
    "plt.yticks([1], ['Outages'])\n",
    "plt.show()"
   ]
  },
  {
   "cell_type": "markdown",
   "metadata": {},
   "source": [
    "Zooming in on the median:"
   ]
  },
  {
   "cell_type": "code",
   "execution_count": null,
   "metadata": {},
   "outputs": [],
   "source": [
    "plt.boxplot(outages['timeOut'], vert=False) \n",
    "plt.title('Distribution of the duration of the outage') \n",
    "plt.xlabel('Timeout (hour)') \n",
    "plt.yticks([1], ['Outages'])\n",
    "plt.xlim(0, 20)  # Limit the x-axis to the threshold\n",
    "plt.show()"
   ]
  },
  {
   "cell_type": "markdown",
   "metadata": {},
   "source": [
    "Timeouts for different regions"
   ]
  },
  {
   "cell_type": "markdown",
   "metadata": {},
   "source": [
    "### Zooming in on the median for each region"
   ]
  },
  {
   "cell_type": "markdown",
   "metadata": {},
   "source": [
    "very interesting that the median lies all the way there, but there is still so many outages having much larger timeouts."
   ]
  },
  {
   "cell_type": "code",
   "execution_count": null,
   "metadata": {},
   "outputs": [],
   "source": [
    "fig = px.box(outages, \n",
    "             y='regionName', \n",
    "             x='timeOut',\n",
    "             orientation='h',\n",
    "             title='Duration of Outages in Different Municipalities',\n",
    "             labels={'timeOut': 'Outage Duration (hour)', 'regionName': 'Region'})\n",
    "\n",
    "\n",
    "fig.show()"
   ]
  },
  {
   "cell_type": "code",
   "execution_count": null,
   "metadata": {},
   "outputs": [],
   "source": [
    "import os\n",
    "\n",
    "# Save the map\n",
    "# Make directory if it doesn't exist\n",
    "if not os.path.exists(\"html\"):\n",
    "  os.makedirs(\"html\")\n",
    "\n",
    "fig.write_html(\"html/regions_timeouts.html\", include_plotlyjs=\"cdn\")"
   ]
  },
  {
   "cell_type": "markdown",
   "metadata": {},
   "source": [
    "### Distances per region:"
   ]
  },
  {
   "cell_type": "code",
   "execution_count": null,
   "metadata": {},
   "outputs": [],
   "source": [
    "seaborn.boxplot(data=outages, y='regionName', x ='outageToSubstationDistance', orient='h')\n",
    "plt.xlabel('Distance to Substation (Km)')\n",
    "plt.ylabel('Region')\n",
    "plt.title('Distribution of Distances per Region')\n",
    "#plt.xlim(0, 100) \n",
    "\n",
    "plt.tight_layout()\n",
    "plt.show()"
   ]
  }
 ],
 "metadata": {
  "kernelspec": {
   "display_name": "base",
   "language": "python",
   "name": "python3"
  },
  "language_info": {
   "codemirror_mode": {
    "name": "ipython",
    "version": 3
   },
   "file_extension": ".py",
   "mimetype": "text/x-python",
   "name": "python",
   "nbconvert_exporter": "python",
   "pygments_lexer": "ipython3",
   "version": "3.12.7"
  }
 },
 "nbformat": 4,
 "nbformat_minor": 2
}
