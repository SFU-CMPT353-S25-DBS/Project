{
 "cells": [
  {
   "cell_type": "code",
   "execution_count": null,
   "id": "0",
   "metadata": {},
   "outputs": [],
   "source": [
    "from plotly import express as px\n",
    "import sys\n",
    "\n",
    "# Allow importing from parent directory by temporarily moving the CWD up one level\n",
    "# Very hacky, but there literally isn't a simpler way (in Jupyter)\n",
    "sys.path.append(\"..\")\n",
    "from common import get_dataframe_from_pipeline\n",
    "\n",
    "outages = get_dataframe_from_pipeline(\"../pipeline/3.csv.gz\")\n",
    "# Drop the path back down after import\n",
    "sys.path.pop()"
   ]
  },
  {
   "cell_type": "markdown",
   "id": "1",
   "metadata": {},
   "source": [
    "## Make Gradient Colour"
   ]
  },
  {
   "cell_type": "code",
   "execution_count": null,
   "id": "2",
   "metadata": {},
   "outputs": [],
   "source": [
    "# gradient = (\n",
    "#   (70, 94, 57),\n",
    "#   (98, 58, 45)\n",
    "# )\n",
    "\n",
    "# minDistToSubstation = outages['outageToSubstationDistance'].min()\n",
    "# maxDistToSubstation = outages['outageToSubstationDistance'].max()\n",
    "\n",
    "# print(outages['outageToSubstationDistance'].mean())\n",
    "\n",
    "# def interpolateGradientChannel(a, b, prog):\n",
    "#   return int(a + (b - a) * prog)\n",
    "\n",
    "# def interpolateGradient(prog):\n",
    "#   return (\n",
    "#     interpolateGradientChannel(gradient[0][0], gradient[1][0], prog),\n",
    "#     interpolateGradientChannel(gradient[0][1], gradient[1][1], prog),\n",
    "#     interpolateGradientChannel(gradient[0][2], gradient[1][2], prog)\n",
    "#   )\n",
    "\n",
    "# outages['colour'] = outages['outageToSubstationDistance'].apply(\n",
    "#   lambda x: interpolateGradient((x - minDistToSubstation) / (maxDistToSubstation - minDistToSubstation))\n",
    "# )"
   ]
  },
  {
   "cell_type": "code",
   "execution_count": null,
   "id": "3",
   "metadata": {},
   "outputs": [],
   "source": [
    "import plotly.express as px\n",
    "\n",
    "fig = px.scatter_map(\n",
    "  outages,\n",
    "  lat=outages[\"outageLatitude\"],\n",
    "  lon=outages[\"outageLongitude\"],\n",
    "  color=outages[\"outageToSubstationDistance\"],\n",
    "  map_style=\"open-street-map\",\n",
    ")\n",
    "\n",
    "fig.show()"
   ]
  },
  {
   "cell_type": "markdown",
   "id": "4",
   "metadata": {},
   "source": [
    "# Person-Hour Outages\n",
    "\n",
    "Determine the severity of outages by the number of hours outages lasted, multiplied by the number of customers affected"
   ]
  },
  {
   "cell_type": "code",
   "execution_count": null,
   "id": "5",
   "metadata": {},
   "outputs": [],
   "source": [
    "outageDuration = outages['dateOn'] - outages['dateOff']\n",
    "outages['duration'] = outages['dateOn'] - outages['dateOff']\n",
    "\n",
    "outages.sort_values(by='duration', ascending=False)"
   ]
  }
 ],
 "metadata": {
  "kernelspec": {
   "display_name": "Python 3",
   "language": "python",
   "name": "python3"
  },
  "language_info": {
   "codemirror_mode": {
    "name": "ipython",
    "version": 3
   },
   "file_extension": ".py",
   "mimetype": "text/x-python",
   "name": "python",
   "nbconvert_exporter": "python",
   "pygments_lexer": "ipython3",
   "version": "3.9.13"
  }
 },
 "nbformat": 4,
 "nbformat_minor": 5
}
