{
 "cells": [
  {
   "cell_type": "code",
   "execution_count": null,
   "id": "0",
   "metadata": {},
   "outputs": [],
   "source": [
    "import pandas as pd\n",
    "\n",
    "features = pd.read_csv(\"./cgn_bc_csv_eng.csv\")\n",
    "\n",
    "# features = features[\n",
    "#   (features['Generic Term'] == \"City\") |\n",
    "#   (features['Generic Term'] == \"Town\") |\n",
    "#   (features['Generic Term'] == \"Village\")\n",
    "# ]\n",
    "\n",
    "features.drop(\n",
    "  columns=[\n",
    "    \"ISO Language Code\",\n",
    "    \"Concise Code\",\n",
    "    \"Toponymic Feature ID\",\n",
    "    \"Province - Territory\",\n",
    "    \"Source\"\n",
    "  ],\n",
    "  inplace=True\n",
    ")\n",
    "\n",
    "features = features[\n",
    "  (features[\"Generic Category\"] == \"Populated Place\")\n",
    "]\n",
    "\n",
    "features"
   ]
  }
 ],
 "metadata": {
  "kernelspec": {
   "display_name": "Python 3",
   "language": "python",
   "name": "python3"
  },
  "language_info": {
   "codemirror_mode": {
    "name": "ipython",
    "version": 3
   },
   "file_extension": ".py",
   "mimetype": "text/x-python",
   "name": "python",
   "nbconvert_exporter": "python",
   "pygments_lexer": "ipython3",
   "version": "3.12.9"
  }
 },
 "nbformat": 4,
 "nbformat_minor": 5
}
