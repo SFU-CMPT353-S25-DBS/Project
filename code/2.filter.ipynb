{
 "cells": [
  {
   "cell_type": "markdown",
   "id": "0",
   "metadata": {},
   "source": [
    "# Goal\n",
    "\n",
    "Clean data acquired from outages file to remove outliers and prepare it for analysis."
   ]
  }
 ],
 "metadata": {
  "language_info": {
   "name": "python"
  }
 },
 "nbformat": 4,
 "nbformat_minor": 5
}
