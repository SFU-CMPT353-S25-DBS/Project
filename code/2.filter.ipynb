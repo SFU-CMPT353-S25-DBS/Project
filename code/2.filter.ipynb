{
 "cells": [
  {
   "cell_type": "markdown",
   "id": "0",
   "metadata": {},
   "source": [
    "# Goal\n",
    "\n",
    "Clean data acquired from outages file to remove outliers and prepare it for analysis."
   ]
  },
  {
   "cell_type": "code",
   "execution_count": null,
   "id": "1",
   "metadata": {},
   "outputs": [],
   "source": [
    "import pandas as pd\n",
    "from init import outagesTimestampFields \n",
    "\n",
    "pdOutages = pd.read_csv('pipeline/1.csv.gz', compression=\"gzip\", parse_dates=outagesTimestampFields)"
   ]
  },
  {
   "cell_type": "markdown",
   "id": "2",
   "metadata": {},
   "source": [
    "## Outliers\n",
    "\n",
    "Some outages are clearly erroneous or unhelpful. We've established the following rules:\n",
    "- Outages that have a latitude or longitude of 0.0"
   ]
  },
  {
   "cell_type": "code",
   "execution_count": null,
   "id": "3",
   "metadata": {},
   "outputs": [],
   "source": [
    "pdOutages = pdOutages[(pdOutages['latitude'] != 0) & (pdOutages['longitude'] != 0)]"
   ]
  },
  {
   "cell_type": "markdown",
   "id": "4",
   "metadata": {},
   "source": [
    "## Deduplicate Outages\n",
    "\n",
    "Sometimes, outages are duplicated in BC Hydro's own data (ie, the same outage is reported twice __with two different IDs__)\n",
    "\n",
    "We should be able to fix this, though, by grouping all outages that have overlapping start and end times with an identical location"
   ]
  },
  {
   "cell_type": "code",
   "execution_count": null,
   "id": "5",
   "metadata": {},
   "outputs": [],
   "source": [
    "removedDups = 0\n",
    "\n",
    "def matchIntervals(areaEntries: pd.DataFrame):\n",
    "  # Group into intervals\n",
    "  # https://stackoverflow.com/a/48243958\n",
    "  intervals = (\n",
    "    (\n",
    "      areaEntries[\"dateOn\"]\n",
    "      .apply(lambda x: x.timestamp())\n",
    "      .rolling(window=2, min_periods=1)\n",
    "      .min()\n",
    "      - areaEntries[\"dateOff\"]\n",
    "      .apply(lambda x: x.timestamp())\n",
    "      .rolling(window=2, min_periods=1)\n",
    "      .max()\n",
    "    )\n",
    "    < 0\n",
    "  ).cumsum()\n",
    "\n",
    "  areaEntries[\"interval\"] = intervals\n",
    "\n",
    "  global removedDups\n",
    "  removedDups += intervals.count() - len(intervals.unique())\n",
    "\n",
    "  return areaEntries\n",
    "\n",
    "\n",
    "mergedPdOutages = (\n",
    "  pdOutages.groupby(by=[\"area\"])\n",
    "  .apply(matchIntervals)\n",
    "  .reset_index(drop=True)\n",
    "  .groupby(by=[\"area\", \"interval\"])\n",
    "  .aggregate(\n",
    "    {\n",
    "      \"id\": \"first\",  # Maybe not the best idea, perhaps combine ids?\n",
    "      \"gisId\": \"first\",\n",
    "      \"regionId\": \"first\",\n",
    "      \"municipality\": \"first\",\n",
    "      \"area\": \"first\",\n",
    "      \"cause\": \"last\",\n",
    "      \"numCustomersOut\": \"max\",\n",
    "      \"crewEta\": \"max\",\n",
    "      \"crewEtr\": \"max\",\n",
    "      \"dateOff\": \"min\",\n",
    "      \"dateOn\": \"max\",\n",
    "      \"estDateOn\": \"max\",\n",
    "      \"lastUpdated\": \"max\",\n",
    "      \"regionName\": \"first\",\n",
    "      \"latitude\": \"first\",\n",
    "      \"longitude\": \"first\",\n",
    "      \"interval\": \"max\",\n",
    "    }\n",
    "  )\n",
    "  .reset_index(drop=True)\n",
    ")\n",
    "\n",
    "print(f\"Merged {removedDups} outages with overlapping start/end times and areas\")"
   ]
  },
  {
   "cell_type": "code",
   "execution_count": null,
   "id": "6",
   "metadata": {},
   "outputs": [],
   "source": [
    "pdOutages.to_csv(\"pipeline/2.csv.gz\", compression=\"gzip\", index=False)"
   ]
  }
 ],
 "metadata": {
  "kernelspec": {
   "display_name": "Python 3",
   "language": "python",
   "name": "python3"
  },
  "language_info": {
   "codemirror_mode": {
    "name": "ipython",
    "version": 3
   },
   "file_extension": ".py",
   "mimetype": "text/x-python",
   "name": "python",
   "nbconvert_exporter": "python",
   "pygments_lexer": "ipython3",
   "version": "3.9.13"
  }
 },
 "nbformat": 4,
 "nbformat_minor": 5
}
