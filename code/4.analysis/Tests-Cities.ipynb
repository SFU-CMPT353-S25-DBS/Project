{
 "cells": [
  {
   "cell_type": "code",
   "execution_count": null,
   "id": "0",
   "metadata": {},
   "outputs": [],
   "source": [
    "import pandas as pd\n",
    "from scipy import stats\n",
    "import matplotlib.pyplot as plt\n",
    "import numpy as np\n",
    "import sys\n",
    "from scipy.stats import spearmanr\n",
    "\n",
    "sys.path.append(\"..\")\n",
    "from common import get_dataframe_from_pipeline\n",
    "outages = get_dataframe_from_pipeline(\"../pipeline/3.csv.gz\")\n",
    "outages['timeOut'] = outages['dateOn'] - outages['dateOff']\n",
    "outages['timeOut'] = outages['timeOut'].apply(lambda x: x.total_seconds()/3600)\n",
    "outages['timeOut']\n",
    "# Drop the path back down after import\n",
    "sys.path.pop()"
   ]
  },
  {
   "cell_type": "markdown",
   "id": "1",
   "metadata": {},
   "source": [
    "only keeping 'id','Population density per square kilometre, 2021', 'Population, 2021', 'Generic Term' to join with the outages csv"
   ]
  },
  {
   "cell_type": "code",
   "execution_count": null,
   "id": "2",
   "metadata": {},
   "outputs": [],
   "source": [
    "population_csv = pd.read_csv(\"../_datasets/BCPopulatedPlaces.csv\")\n",
    "population_csv_filtered = population_csv.filter(items=['id','Population density per square kilometre, 2021', 'Population, 2021', 'Generic Term'])"
   ]
  },
  {
   "cell_type": "code",
   "execution_count": null,
   "id": "3",
   "metadata": {},
   "outputs": [],
   "source": [
    "outages = outages.join(population_csv_filtered.set_index('id'), on = 'nearestPopulatedPlaceId')\n",
    "outages.columns\n"
   ]
  },
  {
   "cell_type": "markdown",
   "id": "4",
   "metadata": {},
   "source": [
    "### Checking normality:"
   ]
  },
  {
   "cell_type": "code",
   "execution_count": null,
   "id": "5",
   "metadata": {},
   "outputs": [],
   "source": [
    "stats.normaltest(outages['outageToPopulatedPlaceDistance']).pvalue"
   ]
  },
  {
   "cell_type": "code",
   "execution_count": null,
   "id": "6",
   "metadata": {},
   "outputs": [],
   "source": [
    "stats.normaltest(np.log(outages['outageToPopulatedPlaceDistance'])).pvalue"
   ]
  },
  {
   "cell_type": "markdown",
   "id": "7",
   "metadata": {},
   "source": [
    "### Trying Distance bins again similar to tests-distance.ipynb"
   ]
  },
  {
   "cell_type": "code",
   "execution_count": null,
   "id": "8",
   "metadata": {},
   "outputs": [],
   "source": [
    "n = 1000 #number of bins\n",
    "distance_bins = pd.cut(outages['outageToPopulatedPlaceDistance'], bins=n)\n",
    "outages['distance_bin'] = distance_bins\n",
    "outages_per_dist = outages.groupby(['distance_bin']).size().reset_index(name=\"# of outages\")\n",
    "outages_per_dist"
   ]
  },
  {
   "cell_type": "code",
   "execution_count": null,
   "id": "9",
   "metadata": {},
   "outputs": [],
   "source": [
    "outages['outageToPopulatedPlaceDistance'].max()"
   ]
  },
  {
   "cell_type": "markdown",
   "id": "10",
   "metadata": {},
   "source": [
    "### The results for the Welch's ttest cannot be trusted still because it assumes normality"
   ]
  },
  {
   "cell_type": "code",
   "execution_count": null,
   "id": "11",
   "metadata": {},
   "outputs": [],
   "source": [
    "#median_bin = n//2\n",
    "median_bin = n//2\n",
    "\n",
    "closer_outages = outages_per_dist[outages_per_dist['distance_bin'].cat.codes < median_bin]['# of outages'].reset_index(drop=True)\n",
    "farther_outages = outages_per_dist[outages_per_dist['distance_bin'].cat.codes >= median_bin]['# of outages'].reset_index(drop=True)\n",
    "closer_outages = closer_outages.to_frame()\n",
    "farther_outages = farther_outages.to_frame()\n",
    "\n",
    "t_stat, p_value = stats.ttest_ind(farther_outages['# of outages'], closer_outages['# of outages'], equal_var=False, alternative='greater')\n",
    "print(\"Levene Test p-value:\", stats.levene(farther_outages['# of outages'], closer_outages['# of outages']).pvalue)\n",
    "print(f\"T-statistic: {t_stat}, P-value: {p_value}\")"
   ]
  },
  {
   "cell_type": "markdown",
   "id": "12",
   "metadata": {},
   "source": [
    "### U-test:"
   ]
  },
  {
   "cell_type": "code",
   "execution_count": null,
   "id": "13",
   "metadata": {},
   "outputs": [],
   "source": [
    "#trying manwhitney\n",
    "print(stats.mannwhitneyu(farther_outages['# of outages'], closer_outages['# of outages'], alternative='greater').pvalue)\n",
    "#super skewed data, i dont know if we can trust this"
   ]
  },
  {
   "cell_type": "markdown",
   "id": "14",
   "metadata": {},
   "source": [
    "### Exactly similar results to the distances to substations!"
   ]
  },
  {
   "cell_type": "markdown",
   "id": "15",
   "metadata": {},
   "source": [
    "### Correlation between timeouts and distance to the nearest city?"
   ]
  },
  {
   "cell_type": "code",
   "execution_count": null,
   "id": "16",
   "metadata": {},
   "outputs": [],
   "source": [
    "fit = stats.linregress(outages['timeOut'], outages['outageToPopulatedPlaceDistance'])\n",
    "plt.plot(outages[\"timeOut\"], outages[\"outageToPopulatedPlaceDistance\"], 'b.', alpha = 0.5)\n",
    "plt.plot(outages[\"timeOut\"], outages[\"timeOut\"]*fit.slope + fit.intercept, 'r-', linewidth = 3)\n",
    "plt.title('Timeout vs Distance')\n",
    "plt.ylabel('Distance (km)')\n",
    "plt.xlabel('TimeOut (hour)')\n",
    "plt.show()"
   ]
  },
  {
   "cell_type": "markdown",
   "id": "17",
   "metadata": {},
   "source": [
    "### Important: The fitted lines cannot be trusted because the residuals are not normal"
   ]
  },
  {
   "cell_type": "code",
   "execution_count": null,
   "id": "18",
   "metadata": {},
   "outputs": [],
   "source": [
    "y = outages[\"outageToPopulatedPlaceDistance\"]\n",
    "x = outages[\"timeOut\"]\n",
    "residuals = y - (fit.slope*x + fit.intercept)\n",
    "plt.hist(residuals, bins = 90)\n",
    "plt.title(\"plot of the residuals\", fontsize=14, fontweight='bold')\n",
    "plt.show()"
   ]
  },
  {
   "cell_type": "code",
   "execution_count": null,
   "id": "19",
   "metadata": {},
   "outputs": [],
   "source": [
    "stats.normaltest(residuals).pvalue"
   ]
  },
  {
   "cell_type": "markdown",
   "id": "20",
   "metadata": {},
   "source": [
    "### Trying new tests:"
   ]
  },
  {
   "cell_type": "markdown",
   "id": "21",
   "metadata": {},
   "source": [
    "### Looking at outages in different **municipalities**:"
   ]
  },
  {
   "cell_type": "code",
   "execution_count": null,
   "id": "22",
   "metadata": {},
   "outputs": [],
   "source": [
    "outages_per_municipality = outages.groupby('outageMunicipality').size().reset_index(name = 'outage_count')\n",
    "distances_per_municipality = outages.groupby('outageMunicipality')['outageToPopulatedPlaceDistance'].mean().reset_index(name='mean_distance')\n",
    "municipality_stats = pd.merge(outages_per_municipality, distances_per_municipality, on='outageMunicipality')\n",
    "municipality_stats"
   ]
  },
  {
   "cell_type": "markdown",
   "id": "23",
   "metadata": {},
   "source": [
    "### testing normality of the outages per municipality and the distances per municipality:"
   ]
  },
  {
   "cell_type": "code",
   "execution_count": null,
   "id": "24",
   "metadata": {},
   "outputs": [],
   "source": [
    "stats.normaltest(municipality_stats['outage_count']).pvalue"
   ]
  },
  {
   "cell_type": "code",
   "execution_count": null,
   "id": "25",
   "metadata": {},
   "outputs": [],
   "source": [
    "stats.normaltest(municipality_stats['mean_distance']).pvalue"
   ]
  },
  {
   "cell_type": "markdown",
   "id": "26",
   "metadata": {},
   "source": [
    "still very non normal."
   ]
  },
  {
   "cell_type": "markdown",
   "id": "27",
   "metadata": {},
   "source": [
    "### Using spearmann's correlation test:\n",
    "doesnt need normality. Below, we have used the alternative hypothesis of the correlation being less than 0, since the p value is 0.948, its very likely that there is a positive relation between them!\n",
    "we can proceed with them having a small positive correlation!"
   ]
  },
  {
   "cell_type": "code",
   "execution_count": null,
   "id": "28",
   "metadata": {},
   "outputs": [],
   "source": [
    "\n",
    "rho, pval = spearmanr(municipality_stats['mean_distance'], municipality_stats['outage_count'],alternative = 'less')\n",
    "print(f\"Spearman correlation: {rho:.3f}, p-value: {pval:.4f}\")"
   ]
  },
  {
   "cell_type": "markdown",
   "id": "29",
   "metadata": {},
   "source": [
    "### Permutation tests\n",
    "https://docs.scipy.org/doc/scipy/reference/generated/scipy.stats.spearmanr.html\n",
    "Spearmann suggests using the permutation tests for <500 data points. \n",
    "<p>\n",
    "since we have around 350 regions, its good to try that too:"
   ]
  },
  {
   "cell_type": "code",
   "execution_count": null,
   "id": "30",
   "metadata": {},
   "outputs": [],
   "source": [
    "def statistic(x): # permute only `x`\n",
    "\n",
    "    return stats.spearmanr(x, y).statistic\n",
    "\n",
    "x = municipality_stats['mean_distance']\n",
    "y = municipality_stats['outage_count']\n",
    "res_exact = stats.permutation_test((x,), statistic,\n",
    "\n",
    "    permutation_type='pairings', alternative = 'less')\n",
    "\n",
    "res_asymptotic = stats.spearmanr(x, y, alternative = 'less')\n",
    "\n",
    "res_exact.pvalue, res_asymptotic.pvalue"
   ]
  },
  {
   "cell_type": "markdown",
   "id": "31",
   "metadata": {},
   "source": [
    "This also agrees with our findings! It is aproving the null hypothesis. which says there is a positive correlation between mean distances to cities and number of outages for different regions!\n",
    "<p>\n",
    "the higher the mean distance to cities in a municipality, the more outages the municipality is experiencing."
   ]
  },
  {
   "cell_type": "markdown",
   "id": "32",
   "metadata": {},
   "source": [
    "### **Distance vs timeout**:"
   ]
  },
  {
   "cell_type": "markdown",
   "id": "33",
   "metadata": {},
   "source": [
    "Trying spearmann again:\n",
    "note that since we have so many data points (trying it on the 3 year data), spearmann is a good option!"
   ]
  },
  {
   "cell_type": "code",
   "execution_count": null,
   "id": "34",
   "metadata": {},
   "outputs": [],
   "source": [
    "rho, pval = spearmanr(outages['timeOut'], outages['outageToPopulatedPlaceDistance'],alternative = 'less')\n",
    "print(f\"Spearman correlation: {rho:.3f}, p-value: {pval:.4f}\")"
   ]
  },
  {
   "cell_type": "markdown",
   "id": "35",
   "metadata": {},
   "source": [
    "crazy results! indicating there is indeed a positive correlation between timeouts and distance"
   ]
  }
 ],
 "metadata": {
  "kernelspec": {
   "display_name": "base",
   "language": "python",
   "name": "python3"
  },
  "language_info": {
   "codemirror_mode": {
    "name": "ipython",
    "version": 3
   },
   "file_extension": ".py",
   "mimetype": "text/x-python",
   "name": "python",
   "nbconvert_exporter": "python",
   "pygments_lexer": "ipython3",
   "version": "3.12.7"
  }
 },
 "nbformat": 4,
 "nbformat_minor": 5
}
