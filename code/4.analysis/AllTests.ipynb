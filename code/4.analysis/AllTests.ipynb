{
 "cells": [
  {
   "cell_type": "code",
   "execution_count": null,
   "id": "0",
   "metadata": {},
   "outputs": [],
   "source": [
    "import pandas as pd\n",
    "from scipy import stats\n",
    "import matplotlib.pyplot as plt\n",
    "import numpy as np\n",
    "from scipy.stats import spearmanr\n",
    "\n",
    "\n",
    "# Allow importing from parent directory by temporarily moving the CWD up one level\n",
    "# Very hacky, but there literally isn't a simpler way (in Jupyter)\n",
    "import sys\n",
    "sys.path.append(\"..\")\n",
    "from common import get_dataframe_from_pipeline\n",
    "outages = get_dataframe_from_pipeline(\"../pipeline/3.csv.gz\")\n",
    "outages['timeOut'] = outages['dateOn'] - outages['dateOff']\n",
    "outages['timeOut'] = outages['timeOut'].apply(lambda x: x.total_seconds()/3600)\n",
    "outages['timeOut']\n",
    "# Drop the path back down after import\n",
    "sys.path.pop()"
   ]
  },
  {
   "cell_type": "code",
   "execution_count": null,
   "id": "1",
   "metadata": {},
   "outputs": [],
   "source": [
    "population_csv = pd.read_csv(\"../_datasets/BCPopulatedPlaces.csv\")\n",
    "population_csv_filtered = population_csv[[\n",
    "    'id',\n",
    "    'population density per square kilometre, 2021',\n",
    "    'population, 2021',\n",
    "    'generic term'\n",
    "]]"
   ]
  },
  {
   "cell_type": "code",
   "execution_count": null,
   "id": "2",
   "metadata": {},
   "outputs": [],
   "source": [
    "outages = outages.join(population_csv_filtered.set_index('id'), on = 'nearestPopulatedPlaceId')\n",
    "outages.columns"
   ]
  },
  {
   "cell_type": "markdown",
   "id": "3",
   "metadata": {},
   "source": [
    "### Grouping the outages into different \"parts\" to analyse later:"
   ]
  },
  {
   "cell_type": "code",
   "execution_count": null,
   "id": "4",
   "metadata": {},
   "outputs": [],
   "source": [
    "def getPart(part):\n",
    "  if part == \"municipality\":\n",
    "    df = outages.groupby('outageMunicipality').agg(\n",
    "    outage_count=('outageToPopulatedPlaceDistance', 'count'),\n",
    "    mean_populated_distance=('outageToPopulatedPlaceDistance', 'mean'),\n",
    "    mean_substation_distance= ('outageToSubstationDistance', 'mean'),\n",
    "    mean_urban_distance = ('outageToUrbanAreaDistance', 'mean'),\n",
    "    mean_timeout=('timeOut', 'mean'), \n",
    "    total_people_affected=('numCustomersOut', 'sum')\n",
    "    ).reset_index()\n",
    "    return df\n",
    "  if part == \"region\":\n",
    "    df = outages.groupby('regionName').agg(\n",
    "    outage_count=('outageToPopulatedPlaceDistance', 'count'),\n",
    "    mean_populated_distance=('outageToPopulatedPlaceDistance', 'mean'),\n",
    "    mean_substation_distance= ('outageToSubstationDistance', 'mean'),\n",
    "    mean_urban_distance = ('outageToUrbanAreaDistance', 'mean'),\n",
    "    mean_timeout=('timeOut', 'mean'),\n",
    "    total_people_affected=('numCustomersOut', 'sum')\n",
    "    ).reset_index()\n",
    "    return df\n",
    "  # grouping by \n",
    "  if part == \"substation\":\n",
    "    outages['subBin'] = outages['outageToSubstationDistance'].round(0)\n",
    "    df = outages.groupby(by='subBin').agg(\n",
    "    outage_count=('outageToPopulatedPlaceDistance', 'count'),\n",
    "    mean_populated_distance=('outageToPopulatedPlaceDistance', 'mean'),\n",
    "    mean_substation_distance= ('outageToSubstationDistance', 'mean'),\n",
    "    mean_urban_distance = ('outageToUrbanAreaDistance', 'mean'),\n",
    "    mean_timeout=('timeOut', 'mean'),\n",
    "    total_people_affected=('numCustomersOut', 'sum')\n",
    "    ).reset_index()\n",
    "    return df\n",
    "  if part == \"populated\":\n",
    "    outages['placeBin'] = outages['outageToPopulatedPlaceDistance'].round(0)\n",
    "    df = outages.groupby(by='placeBin').agg(\n",
    "    outage_count=('outageToPopulatedPlaceDistance', 'count'),\n",
    "    mean_populated_distance=('outageToPopulatedPlaceDistance', 'mean'),\n",
    "    mean_substation_distance= ('outageToSubstationDistance', 'mean'),\n",
    "    mean_urban_distance = ('outageToUrbanAreaDistance', 'mean'),\n",
    "    mean_timeout=('timeOut', 'mean'),\n",
    "    total_people_affected=('numCustomersOut', 'sum')\n",
    "    ).reset_index()\n",
    "    return df\n",
    "  if part == \"urban\":\n",
    "    outages['urbanAreaBin'] = outages['outageToUrbanAreaDistance'].round(0)\n",
    "    df = outages.groupby(by='urbanAreaBin').agg(\n",
    "    outage_count=('outageToPopulatedPlaceDistance', 'count'),\n",
    "    mean_populated_distance=('outageToPopulatedPlaceDistance', 'mean'),\n",
    "    mean_substation_distance= ('outageToSubstationDistance', 'mean'),\n",
    "    mean_urban_distance = ('outageToUrbanAreaDistance', 'mean'),\n",
    "    mean_timeout=('timeOut', 'mean'),\n",
    "    total_people_affected=('numCustomersOut', 'sum')\n",
    "    ).reset_index()\n",
    "    return df\n",
    "\n",
    "\n"
   ]
  },
  {
   "cell_type": "markdown",
   "id": "5",
   "metadata": {},
   "source": [
    "The function bellow takes takes the parts (municipality or region) and analyses the data:"
   ]
  },
  {
   "cell_type": "code",
   "execution_count": null,
   "id": "6",
   "metadata": {},
   "outputs": [],
   "source": [
    "def analyse(df):\n",
    "\n",
    "  df['outage_per_person'] =  df['outage_count']/df['total_people_affected']\n",
    "  #to avoid normal test giving an error for less than 8 datapoints:\n",
    "  if(df.shape[0] > 7):\n",
    "    #normaltest:\n",
    "    p = stats.normaltest(df['outage_count']).pvalue\n",
    "    print(f\"Outage count normal test p-value: {p:.4f}\")\n",
    "\n",
    "  # mean substation distance vs outage count\n",
    "  print(\"Spearman test  (mean substation distance vs outage count)\")\n",
    "  rho, pval = spearmanr(df['mean_substation_distance'], df['outage_count'])\n",
    "  print(f\"Spearman correlation: {rho:.3f}, p-value: {pval:.4f}\")\n",
    "\n",
    "  # mean substation distance vs with outage per person\n",
    "  print(\"Spearman test  (mean substation distance vs outage per person)\")\n",
    "  rho, pval = spearmanr(df['mean_substation_distance'], df['outage_per_person'])  \n",
    "  print(f\"Spearman correlation: {rho:.3f}, p-value: {pval:.4f}\")\n",
    "\n",
    "  # mean substation distance vs mean outage duration\n",
    "  print(\"Spearman test  (mean substation distance vs mean outage duration)\")\n",
    "  rho, pval = spearmanr(df['mean_timeout'], df['mean_substation_distance'])\n",
    "  print(f\"Spearman correlation: {rho:.3f}, p-value: {pval:.4f}\")\n",
    "\n",
    "  # mean populated distance with outage counts\n",
    "  print(\"Spearman test  (mean populated distance vs outage counts)\")\n",
    "  rho, pval = spearmanr(df['mean_populated_distance'], df['outage_count'])\n",
    "  print(f\"Spearman correlation: {rho:.3f}, p-value: {pval:.4f}\")\n",
    "\n",
    "  # mean populated place distance vs with outage per person\n",
    "  print(\"Spearman test  (mean populated place distance vs outage per person)\")\n",
    "  rho, pval = spearmanr(df['mean_populated_distance'], df['outage_per_person'])  \n",
    "  print(f\"Spearman correlation: {rho:.3f}, p-value: {pval:.4f}\")\n",
    "\n",
    "  # mean populated place distance vs mean outage duration\n",
    "  print(\"Spearman test  (mean populated place distance vs mean outage duration)\")\n",
    "  rho, pval = spearmanr(df['mean_timeout'], df['mean_populated_distance'])\n",
    "  print(f\"Spearman correlation: {rho:.3f}, p-value: {pval:.4f}\")\n",
    "\n",
    "  # comparing urban distance:\n",
    "  print(\"Spearman test  (mean urban distance vs outage count)\")\n",
    "  rho, pval = spearmanr(df['mean_urban_distance'], df['outage_count'])\n",
    "  print(f\"Spearman correlation: {rho:.3f}, p-value: {pval:.4f}\")\n",
    "\n",
    "  print(\"Spearman test  (mean urban distance vs mean outage duration)\")\n",
    "  rho, pval = spearmanr(df['mean_urban_distance'], df['mean_timeout'])\n",
    "  print(f\"Spearman correlation: {rho:.3f}, p-value: {pval:.4f}\")\n",
    "\n",
    "  print(\"Spearman test  (mean urban distance vs outage per person)\")\n",
    "  rho, pval = spearmanr(df['mean_urban_distance'], df['outage_per_person'])  \n",
    "  print(f\"Spearman correlation: {rho:.3f}, p-value: {pval:.4f}\")\n"
   ]
  },
  {
   "cell_type": "code",
   "execution_count": null,
   "id": "7",
   "metadata": {},
   "outputs": [],
   "source": [
    "df = getPart(\"urban\")\n",
    "analyse(df)"
   ]
  },
  {
   "cell_type": "code",
   "execution_count": null,
   "id": "8",
   "metadata": {},
   "outputs": [],
   "source": [
    "df = getPart('populated')\n",
    "analyse(df)"
   ]
  },
  {
   "cell_type": "code",
   "execution_count": null,
   "id": "9",
   "metadata": {},
   "outputs": [],
   "source": [
    "df = getPart('substation')\n",
    "analyse(df)"
   ]
  },
  {
   "cell_type": "code",
   "execution_count": null,
   "id": "10",
   "metadata": {},
   "outputs": [],
   "source": [
    "df = getPart('municipality')\n",
    "analyse(df)"
   ]
  },
  {
   "cell_type": "code",
   "execution_count": null,
   "id": "11",
   "metadata": {},
   "outputs": [],
   "source": [
    "df = getPart('region')\n",
    "analyse(df)"
   ]
  }
 ],
 "metadata": {
  "kernelspec": {
   "display_name": "base",
   "language": "python",
   "name": "python3"
  },
  "language_info": {
   "codemirror_mode": {
    "name": "ipython",
    "version": 3
   },
   "file_extension": ".py",
   "mimetype": "text/x-python",
   "name": "python",
   "nbconvert_exporter": "python",
   "pygments_lexer": "ipython3",
   "version": "3.12.7"
  }
 },
 "nbformat": 4,
 "nbformat_minor": 5
}
