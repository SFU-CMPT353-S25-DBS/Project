{
 "cells": [
  {
   "cell_type": "code",
   "execution_count": null,
   "metadata": {},
   "outputs": [],
   "source": [
    "import pandas as pd\n",
    "from scipy import stats\n",
    "import matplotlib.pyplot as plt\n",
    "import numpy as np\n",
    "\n",
    "# Allow importing from parent directory by temporarily moving the CWD up one level\n",
    "# Very hacky, but there literally isn't a simpler way (in Jupyter)\n",
    "import sys\n",
    "sys.path.append(\"..\")\n",
    "from common import get_dataframe_from_pipeline\n",
    "outages = get_dataframe_from_pipeline(\"../pipeline/3.csv.gz\")\n",
    "# Drop the path back down after import\n",
    "sys.path.pop()"
   ]
  },
  {
   "cell_type": "markdown",
   "metadata": {},
   "source": [
    "### Checking if the distances are normally distributed:"
   ]
  },
  {
   "cell_type": "code",
   "execution_count": null,
   "metadata": {},
   "outputs": [],
   "source": [
    "stats.normaltest(outages['outageToSubstationDistance']).pvalue"
   ]
  },
  {
   "cell_type": "markdown",
   "metadata": {},
   "source": [
    "### First Idea\n",
    "1. Splitting the distances into **equal** length **bins** and seeing how many outages occured that have distances in that distance interval for example from (0,3), is the number of outages that had a distance of between 0 to 3 to the nearest station.\n",
    "2. Now we **groupby** these intervals and aggregate by counting the number of outages that are in this interval. This gives us outages per distance\n",
    "3. We can do a statistical test like a **T-test** to see if there is a significant different between the first half of these outages compared to the second half of these outages."
   ]
  },
  {
   "cell_type": "code",
   "execution_count": null,
   "metadata": {},
   "outputs": [],
   "source": [
    "#this cuts the data into 3 equal width bins.\n",
    "data = pd.Series([2,19,1,20, 13, 19, 24, 30])\n",
    "bins = pd.cut(data, bins=3)\n",
    "print(bins)"
   ]
  },
  {
   "cell_type": "code",
   "execution_count": null,
   "metadata": {},
   "outputs": [],
   "source": [
    "n = 10 #number of bins\n",
    "distance_bins = pd.cut(outages['outageToSubstationDistance'], bins=n)\n",
    "outages['distance_bin'] = distance_bins\n",
    "outages_per_dist = outages.groupby(['distance_bin']).size()\n",
    "outages_per_dist = pd.DataFrame(outages_per_dist)\n",
    "outages_per_dist = outages_per_dist.rename(columns={0:\"#of outages\"})\n",
    "outages_per_dist\n"
   ]
  },
  {
   "cell_type": "markdown",
   "metadata": {},
   "source": [
    "### Checking for correlations: **distance vs timeout**\n",
    "Checking if there is any correlation between the distance of the outage to the station and the time it took for the outage to be resolved."
   ]
  },
  {
   "cell_type": "code",
   "execution_count": null,
   "metadata": {},
   "outputs": [],
   "source": [
    "outages['timeOut'] = outages['dateOn'] - outages['dateOff']\n",
    "outages['timeOut'] = outages['timeOut'].apply(lambda x: x.total_seconds()/60)\n",
    "outages['timeOut']\n",
    "#timeout is the total of minutes without power (we can change it into hours if its better)"
   ]
  },
  {
   "cell_type": "code",
   "execution_count": null,
   "metadata": {},
   "outputs": [],
   "source": [
    "stats.normaltest(outages['timeOut']).pvalue"
   ]
  },
  {
   "cell_type": "code",
   "execution_count": null,
   "metadata": {},
   "outputs": [],
   "source": [
    "fit = stats.linregress(outages['timeOut'], outages['outageToSubstationDistance'])\n",
    "plt.xticks(rotation = 25)\n",
    "plt.plot(outages[\"timeOut\"], outages[\"outageToSubstationDistance\"], 'b.', alpha = 0.5)\n",
    "plt.plot(outages[\"timeOut\"], outages[\"timeOut\"]*fit.slope + fit.intercept, 'r-', linewidth = 3)\n",
    "plt.show()\n",
    "#this plot doesnt look good because the distance csv that I created was not very good. \n",
    "#it would be nice to try it on our actual big dataset and the corresponding distances csv"
   ]
  },
  {
   "cell_type": "code",
   "execution_count": null,
   "metadata": {},
   "outputs": [],
   "source": [
    "outages[\"timeOut\"].corr(outages[\"outageToSubstationDistance\"])"
   ]
  },
  {
   "cell_type": "markdown",
   "metadata": {},
   "source": [
    "### Trying transformations:"
   ]
  },
  {
   "cell_type": "code",
   "execution_count": null,
   "metadata": {},
   "outputs": [],
   "source": [
    "outages[\"timeOut\"].apply(np.sqrt).corr(outages[\"outageToSubstationDistance\"].apply(np.sqrt))"
   ]
  },
  {
   "cell_type": "markdown",
   "metadata": {},
   "source": [
    "### Log transformation:\n"
   ]
  },
  {
   "cell_type": "code",
   "execution_count": null,
   "metadata": {},
   "outputs": [],
   "source": [
    "outages[\"timeOut\"].apply(np.log).corr(outages[\"outageToSubstationDistance\"].apply(np.log))"
   ]
  },
  {
   "cell_type": "code",
   "execution_count": null,
   "metadata": {},
   "outputs": [],
   "source": [
    "timeouts_transformed = outages[\"timeOut\"].apply(np.log)\n",
    "distance_transformed = outages[\"outageToSubstationDistance\"].apply(np.log)\n",
    "fit = stats.linregress(timeouts_transformed, distance_transformed)\n",
    "plt.xticks(rotation = 25)\n",
    "plt.plot(timeouts_transformed, distance_transformed, 'b.', alpha = 0.5)\n",
    "plt.plot(timeouts_transformed, timeouts_transformed*fit.slope + fit.intercept, 'r-', linewidth = 3)\n",
    "plt.show()"
   ]
  },
  {
   "cell_type": "markdown",
   "metadata": {},
   "source": [
    "Using log makes better bins as well! \n",
    "but are the bins even meaningful?"
   ]
  },
  {
   "cell_type": "code",
   "execution_count": null,
   "metadata": {},
   "outputs": [],
   "source": [
    "n = 10 #number of bins\n",
    "distance_bins = pd.cut(outages['outageToSubstationDistance'].apply(np.log), bins=n)\n",
    "outages['distance_bin'] = distance_bins\n",
    "outages_per_dist = outages.groupby(['distance_bin']).size()\n",
    "outages_per_dist = pd.DataFrame(outages_per_dist)\n",
    "outages_per_dist = outages_per_dist.rename(columns={0:\"#of outages\"})\n",
    "outages_per_dist"
   ]
  }
 ],
 "metadata": {
  "kernelspec": {
   "display_name": "Python 3",
   "language": "python",
   "name": "python3"
  },
  "language_info": {
   "codemirror_mode": {
    "name": "ipython",
    "version": 3
   },
   "file_extension": ".py",
   "mimetype": "text/x-python",
   "name": "python",
   "nbconvert_exporter": "python",
   "pygments_lexer": "ipython3",
   "version": "3.9.13"
  }
 },
 "nbformat": 4,
 "nbformat_minor": 2
}
