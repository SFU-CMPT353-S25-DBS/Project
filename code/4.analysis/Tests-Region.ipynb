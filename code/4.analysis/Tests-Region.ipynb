{
 "cells": [
  {
   "cell_type": "markdown",
   "id": "0",
   "metadata": {},
   "source": [
    "### Tests relating to the different regions:"
   ]
  },
  {
   "cell_type": "code",
   "execution_count": null,
   "id": "1",
   "metadata": {},
   "outputs": [],
   "source": [
    "import pandas as pd\n",
    "from scipy import stats\n",
    "import matplotlib.pyplot as plt\n",
    "import numpy as np\n",
    "\n",
    "# Allow importing from parent directory by temporarily moving the CWD up one level\n",
    "# Very hacky, but there literally isn't a simpler way (in Jupyter)\n",
    "import sys\n",
    "sys.path.append(\"..\")\n",
    "from common import get_dataframe_from_pipeline\n",
    "outages = get_dataframe_from_pipeline(\"../pipeline/3.csv.gz\")\n",
    "# Drop the path back down after import\n",
    "sys.path.pop()\n",
    "outages['timeOut'] = outages['dateOn'] - outages['dateOff']\n",
    "outages['timeOut'] = outages['timeOut'].apply(lambda x: x.total_seconds()/3600)"
   ]
  },
  {
   "cell_type": "markdown",
   "id": "2",
   "metadata": {},
   "source": [
    "### Timeouts per region:"
   ]
  },
  {
   "cell_type": "code",
   "execution_count": null,
   "id": "3",
   "metadata": {},
   "outputs": [],
   "source": [
    "grouped_data = outages.groupby('regionName')['timeOut'].apply(list)\n",
    "grouped_df = grouped_data.reset_index(name='timeOutList')\n",
    "grouped_df"
   ]
  },
  {
   "cell_type": "markdown",
   "id": "4",
   "metadata": {},
   "source": [
    "### Checking if the timeouts for different regions are normally distributed:\n",
    "its seems like they are very non normal"
   ]
  },
  {
   "cell_type": "code",
   "execution_count": null,
   "id": "5",
   "metadata": {},
   "outputs": [],
   "source": [
    "for i in range(7):\n",
    "    p = stats.normaltest(grouped_df['timeOutList'][i]).pvalue\n",
    "    print(grouped_df['regionName'][i], f\"{p:.50f}\")"
   ]
  },
  {
   "cell_type": "markdown",
   "id": "6",
   "metadata": {},
   "source": [
    "### Transforming the timeouts:"
   ]
  },
  {
   "cell_type": "code",
   "execution_count": null,
   "id": "7",
   "metadata": {},
   "outputs": [],
   "source": [
    "grouped_df['logTimeOutList'] = grouped_df['timeOutList'].apply(\n",
    "  lambda lst: [np.log(x) for x in lst]\n",
    ")\n",
    "#Checking if the transformed timeouts is normal:\n",
    "for i in range(7):\n",
    "    p = stats.normaltest(grouped_df['logTimeOutList'][i]).pvalue\n",
    "    print(grouped_df['regionName'][i], f\"{p:.50f}\")"
   ]
  },
  {
   "cell_type": "markdown",
   "id": "8",
   "metadata": {},
   "source": [
    "### Anova test?\n",
    "but we need normality!"
   ]
  }
 ],
 "metadata": {
  "kernelspec": {
   "display_name": "base",
   "language": "python",
   "name": "python3"
  },
  "language_info": {
   "codemirror_mode": {
    "name": "ipython",
    "version": 3
   },
   "file_extension": ".py",
   "mimetype": "text/x-python",
   "name": "python",
   "nbconvert_exporter": "python",
   "pygments_lexer": "ipython3",
   "version": "3.12.7"
  }
 },
 "nbformat": 4,
 "nbformat_minor": 5
}
