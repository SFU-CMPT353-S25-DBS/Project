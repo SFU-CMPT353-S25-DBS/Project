{
 "cells": [
  {
   "cell_type": "markdown",
   "id": "0",
   "metadata": {},
   "source": [
    "### Tests relating to the different regions:"
   ]
  },
  {
   "cell_type": "code",
   "execution_count": null,
   "id": "1",
   "metadata": {},
   "outputs": [],
   "source": [
    "import pandas as pd\n",
    "from scipy import stats\n",
    "import matplotlib.pyplot as plt\n",
    "import numpy as np\n",
    "\n",
    "# Allow importing from parent directory by temporarily moving the CWD up one level\n",
    "# Very hacky, but there literally isn't a simpler way (in Jupyter)\n",
    "import sys\n",
    "sys.path.append(\"..\")\n",
    "from common import get_dataframe_from_pipeline\n",
    "outages = get_dataframe_from_pipeline(\"../pipeline/3.csv.gz\")\n",
    "outages['timeOut'] = outages['dateOn'] - outages['dateOff']\n",
    "outages['timeOut'] = outages['timeOut'].apply(lambda x: x.total_seconds()/3600)\n",
    "# Drop the path back down after import\n",
    "sys.path.pop()"
   ]
  },
  {
   "cell_type": "markdown",
   "id": "2",
   "metadata": {},
   "source": [
    "### Timeouts per region:"
   ]
  },
  {
   "cell_type": "code",
   "execution_count": null,
   "id": "3",
   "metadata": {},
   "outputs": [],
   "source": [
    "grouped_data = outages.groupby('regionName')['timeOut'].apply(list)\n",
    "grouped_df = grouped_data.reset_index(name='timeOutList')\n",
    "grouped_df"
   ]
  },
  {
   "cell_type": "markdown",
   "id": "4",
   "metadata": {},
   "source": [
    "### Checking if the timeouts for different regions are normally distributed:\n",
    "its seems like they are very non normal"
   ]
  },
  {
   "cell_type": "code",
   "execution_count": null,
   "id": "5",
   "metadata": {},
   "outputs": [],
   "source": [
    "for i in range(7):\n",
    "    p = stats.normaltest(grouped_df['timeOutList'][i]).pvalue\n",
    "    print(grouped_df['regionName'][i], f\"{p:.50f}\")"
   ]
  },
  {
   "cell_type": "markdown",
   "id": "6",
   "metadata": {},
   "source": [
    "### Transforming the timeouts:"
   ]
  },
  {
   "cell_type": "code",
   "execution_count": null,
   "id": "7",
   "metadata": {},
   "outputs": [],
   "source": [
    "grouped_df['logTimeOutList'] = grouped_df['timeOutList'].apply(\n",
    "  lambda lst: [np.log(x) for x in lst]\n",
    ")\n",
    "#Checking if the transformed timeouts is normal:\n",
    "for i in range(7):\n",
    "    p = stats.normaltest(grouped_df['logTimeOutList'][i]).pvalue\n",
    "    print(grouped_df['regionName'][i], f\"{p:.50f}\")"
   ]
  },
  {
   "cell_type": "markdown",
   "id": "8",
   "metadata": {},
   "source": [
    "### T-test: \n",
    "Comparing lower Mainland timeouts to North VI gave significant results indicating that lower mainland indeed has less timeout times compared to North VI!\n",
    "### Important: We cannot use the results of this because welch's t test still needs normality!"
   ]
  },
  {
   "cell_type": "code",
   "execution_count": null,
   "id": "9",
   "metadata": {},
   "outputs": [],
   "source": [
    "t_stat, p_value = stats.ttest_ind(grouped_df['timeOutList'][1], grouped_df['timeOutList'][2], equal_var=False, alternative='less')\n",
    "print(\"Levene Test p-value:\", stats.levene(grouped_df['timeOutList'][1], grouped_df['timeOutList'][2]).pvalue)\n",
    "print(f\"T-statistic: {t_stat}, P-value: {p_value}\")"
   ]
  },
  {
   "cell_type": "markdown",
   "id": "10",
   "metadata": {},
   "source": [
    "### Anova test?\n",
    "but we need normality for that!\n",
    "### We will use Kruskal instead\n",
    "it is a non parametric anova! below, since the p value is very low, we reject the null hypothesis and proceed to perform a pairwise post hoc test to see which ones are different."
   ]
  },
  {
   "cell_type": "code",
   "execution_count": null,
   "id": "11",
   "metadata": {},
   "outputs": [],
   "source": [
    "groups = grouped_df['timeOutList'].tolist()\n",
    "h_stat, p_value = stats.kruskal(*groups)\n",
    "print(f\"H-statistic: {h_stat}, p-value: {p_value}\")"
   ]
  },
  {
   "cell_type": "markdown",
   "id": "12",
   "metadata": {},
   "source": [
    "### Pairwise Games-Howell post-hoc test:\n",
    "\"Although rather similar to Tukey's test in its formulation, the Games-Howell test does not assume equal variances and sample sizes.\"\n",
    "its also a non parametric test - doesnt need normality\n",
    "<p>\n",
    "It is interesting that the p-value between Lower Mainland and Northen VI agrees with the p-value I got above (with T-test) but it is not nearly as small!"
   ]
  },
  {
   "cell_type": "code",
   "execution_count": null,
   "id": "13",
   "metadata": {},
   "outputs": [],
   "source": [
    "import pingouin as pg\n",
    "\n",
    "tests_regions = pg.pairwise_gameshowell(dv= 'timeOut', between='regionName', data=outages).round(4)\n",
    "tests_regions.to_csv(\"regions_compared.csv\")"
   ]
  },
  {
   "cell_type": "code",
   "execution_count": null,
   "id": "14",
   "metadata": {},
   "outputs": [],
   "source": [
    "import plotly.graph_objects as go\n",
    "df = tests_regions\n",
    "\n",
    "# Create Plotly Table\n",
    "fig = go.Figure(data=[go.Table(\n",
    "    header=dict(\n",
    "        values=list(df.columns),\n",
    "        fill_color='paleturquoise',\n",
    "        align='left'\n",
    "    ),\n",
    "    cells=dict(\n",
    "        values=[df[col] for col in df.columns],\n",
    "        fill_color='lavender',\n",
    "        align='left'\n",
    "    )\n",
    ")])\n",
    "\n",
    "fig.show()"
   ]
  }
 ],
 "metadata": {
  "kernelspec": {
   "display_name": "base",
   "language": "python",
   "name": "python3"
  },
  "language_info": {
   "codemirror_mode": {
    "name": "ipython",
    "version": 3
   },
   "file_extension": ".py",
   "mimetype": "text/x-python",
   "name": "python",
   "nbconvert_exporter": "python",
   "pygments_lexer": "ipython3",
   "version": "3.12.7"
  }
 },
 "nbformat": 4,
 "nbformat_minor": 5
}
