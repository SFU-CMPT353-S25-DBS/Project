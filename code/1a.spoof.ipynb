{
 "cells": [
  {
   "cell_type": "markdown",
   "id": "0",
   "metadata": {},
   "source": [
    "# Outages Data Spoofing\n",
    "\n",
    "Spoof the data acquisition step by copying one of the sample datasets into the pipeline.\n",
    "\n",
    "Avoids the time consumer bchydro-outages scraper step."
   ]
  },
  {
   "cell_type": "code",
   "execution_count": null,
   "id": "1",
   "metadata": {},
   "outputs": [],
   "source": [
    "import os\n",
    "from shutil import copyfile\n",
    "\n",
    "sampleDatasetDir = \"_datasets/sampleOutages\"\n",
    "\n",
    "datasets = {\n",
    "  \"threeDays\": os.path.join(sampleDatasetDir, \"threeDays.csv.gz\"),\n",
    "  \"nineDays\": os.path.join(sampleDatasetDir, \"nineDays.csv.gz\"),\n",
    "  \"twelveDays\": os.path.join(sampleDatasetDir, \"twelveDays.csv.gz\"),\n",
    "  \"365Days\": os.path.join(sampleDatasetDir, \"365Days.csv.gz\"),\n",
    "  \"3Years\": os.path.join(sampleDatasetDir, \"3years.csv.gz\"),\n",
    "}\n",
    "DATASET_TO_COPY = datasets['threeDays']\n",
    "\n",
    "# ------------------------------------------------------\n",
    "\n",
    "pipelineDir = \"pipeline\"\n",
    "if not os.path.exists(pipelineDir):\n",
    "  os.makedirs(pipelineDir)\n",
    "copyfile(DATASET_TO_COPY, os.path.join(pipelineDir, \"1.csv.gz\"))\n"
   ]
  }
 ],
 "metadata": {
  "kernelspec": {
   "display_name": "Python 3",
   "language": "python",
   "name": "python3"
  },
  "language_info": {
   "codemirror_mode": {
    "name": "ipython",
    "version": 3
   },
   "file_extension": ".py",
   "mimetype": "text/x-python",
   "name": "python",
   "nbconvert_exporter": "python",
   "pygments_lexer": "ipython3",
   "version": "3.12.9"
  }
 },
 "nbformat": 4,
 "nbformat_minor": 5
}
