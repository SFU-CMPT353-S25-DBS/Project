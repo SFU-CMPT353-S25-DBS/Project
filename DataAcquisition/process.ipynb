{
 "cells": [
  {
   "cell_type": "code",
   "execution_count": null,
   "metadata": {},
   "outputs": [],
   "source": [
    "# Import the data from acquire\n",
    "\n",
    "import pandas as pd\n",
    "from common import timeStampFields, csvFileName\n",
    "\n",
    "timeFields = [t[0] for t in timeStampFields]\n",
    "\n",
    "pdOutages = pd.read_csv(csvFileName, header='infer', parse_dates=timeFields, compression=\"gzip\")\n",
    "\n",
    "# Convert the time fields to America/Vancouver timezone\n",
    "for field in timeFields:\n",
    "  pdOutages[field] = pdOutages[field].dt.tz_convert('America/Vancouver')"
   ]
  },
  {
   "cell_type": "code",
   "execution_count": null,
   "metadata": {},
   "outputs": [],
   "source": [
    "# pdOutages.groupby(\"cause\")['id'].count().sort_values(ascending=False)\n",
    "\n",
    "print(pdOutages[pdOutages['cause'] == \"Under investigation\"]['id'].count())\n",
    "\n",
    "pdOutages[\n",
    "  (pdOutages['cause'] != \"Under investigation\") | \n",
    "  ((pdOutages['cause'] == \"Under investigation\") & (pdOutages['numCustomersOut'] > 5))\n",
    "].groupby(\"cause\")['cause'].count().sort_values(ascending=False)"
   ]
  },
  {
   "cell_type": "code",
   "execution_count": null,
   "metadata": {},
   "outputs": [],
   "source": [
    "# pdOutages.groupby(\"municipality\")['numCustomersOut'].sum().sort_values(ascending=False)\n",
    "\n",
    "# pdOutages[pdOutages['municipality'] == \"University Endowment Lands\"]\n",
    "pdOutages"
   ]
  },
  {
   "cell_type": "code",
   "execution_count": null,
   "metadata": {},
   "outputs": [],
   "source": [
    "pdOutages.groupby(\"cause\")['numCustomersOut'].median().sort_values(ascending=False)\n",
    "\n",
    "# pdOutages[pdOutages['cause'] == \"Flood\"]"
   ]
  }
 ],
 "metadata": {
  "kernelspec": {
   "display_name": "Python 3",
   "language": "python",
   "name": "python3"
  },
  "language_info": {
   "codemirror_mode": {
    "name": "ipython",
    "version": 3
   },
   "file_extension": ".py",
   "mimetype": "text/x-python",
   "name": "python",
   "nbconvert_exporter": "python",
   "pygments_lexer": "ipython3",
   "version": "3.12.9"
  }
 },
 "nbformat": 4,
 "nbformat_minor": 2
}
